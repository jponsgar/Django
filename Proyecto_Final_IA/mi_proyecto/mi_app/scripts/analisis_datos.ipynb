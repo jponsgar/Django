{
 "cells": [
  {
   "cell_type": "code",
   "execution_count": 1,
   "id": "1e831bb8",
   "metadata": {},
   "outputs": [
    {
     "name": "stdout",
     "output_type": "stream",
     "text": [
      "   Estadio ERC  Edad_Promedio  Proporcion_Masculino  Total_Pacientes\n",
      "0            1      51.200000              0.420000               50\n",
      "1            2      53.800000              0.500000               50\n",
      "2            3      57.020000              0.600000               50\n",
      "3            4      62.160000              0.680000               50\n",
      "4            5      68.806452              0.774194               31\n"
     ]
    },
    {
     "ename": "FileNotFoundError",
     "evalue": "[Errno 2] No such file or directory: 'mi_app/static/edad_promedio_por_estadio.jpg'",
     "output_type": "error",
     "traceback": [
      "\u001b[31m---------------------------------------------------------------------------\u001b[39m",
      "\u001b[31mFileNotFoundError\u001b[39m                         Traceback (most recent call last)",
      "\u001b[36mCell\u001b[39m\u001b[36m \u001b[39m\u001b[32mIn[1]\u001b[39m\u001b[32m, line 41\u001b[39m\n\u001b[32m     34\u001b[39m fig.update_traces(texttemplate=\u001b[33m'\u001b[39m\u001b[33m%\u001b[39m\u001b[38;5;132;01m{text:.1f}\u001b[39;00m\u001b[33m años\u001b[39m\u001b[33m'\u001b[39m, textposition=\u001b[33m'\u001b[39m\u001b[33moutside\u001b[39m\u001b[33m'\u001b[39m)\n\u001b[32m     35\u001b[39m fig.update_layout(yaxis_title=\u001b[33m'\u001b[39m\u001b[33mEdad Promedio (años)\u001b[39m\u001b[33m'\u001b[39m,\n\u001b[32m     36\u001b[39m                   xaxis_title=\u001b[33m'\u001b[39m\u001b[33mEstadio ERC\u001b[39m\u001b[33m'\u001b[39m,\n\u001b[32m     37\u001b[39m                   coloraxis_showscale=\u001b[38;5;28;01mFalse\u001b[39;00m,\n\u001b[32m     38\u001b[39m                   uniformtext_minsize=\u001b[32m8\u001b[39m,\n\u001b[32m     39\u001b[39m                   uniformtext_mode=\u001b[33m'\u001b[39m\u001b[33mhide\u001b[39m\u001b[33m'\u001b[39m)\n\u001b[32m---> \u001b[39m\u001b[32m41\u001b[39m \u001b[43mplt\u001b[49m\u001b[43m.\u001b[49m\u001b[43msavefig\u001b[49m\u001b[43m(\u001b[49m\u001b[33;43m\"\u001b[39;49m\u001b[33;43mmi_app/static/edad_promedio_por_estadio.jpg\u001b[39;49m\u001b[33;43m\"\u001b[39;49m\u001b[43m)\u001b[49m\n\u001b[32m     43\u001b[39m \u001b[38;5;66;03m# Crear df_melted para proporciones de género por estadio\u001b[39;00m\n\u001b[32m     44\u001b[39m df_melted = pd.DataFrame({\n\u001b[32m     45\u001b[39m     \u001b[33m'\u001b[39m\u001b[33mEstadio ERC\u001b[39m\u001b[33m'\u001b[39m: resumen[\u001b[33m'\u001b[39m\u001b[33mEstadio ERC\u001b[39m\u001b[33m'\u001b[39m].tolist() * \u001b[32m2\u001b[39m,\n\u001b[32m     46\u001b[39m     \u001b[33m'\u001b[39m\u001b[33mProporción\u001b[39m\u001b[33m'\u001b[39m: pd.concat([\n\u001b[32m   (...)\u001b[39m\u001b[32m     50\u001b[39m     \u001b[33m'\u001b[39m\u001b[33mGénero\u001b[39m\u001b[33m'\u001b[39m: [\u001b[33m'\u001b[39m\u001b[33mMasculino\u001b[39m\u001b[33m'\u001b[39m] * \u001b[38;5;28mlen\u001b[39m(resumen) + [\u001b[33m'\u001b[39m\u001b[33mFemenino\u001b[39m\u001b[33m'\u001b[39m] * \u001b[38;5;28mlen\u001b[39m(resumen)\n\u001b[32m     51\u001b[39m })\n",
      "\u001b[36mFile \u001b[39m\u001b[32mc:\\Users\\jpons\\Code\\IFCD107_ESPECIALISTA_EN_INTELIGENCIA_ARTIFICIAL\\.venv\\Lib\\site-packages\\matplotlib\\pyplot.py:1251\u001b[39m, in \u001b[36msavefig\u001b[39m\u001b[34m(*args, **kwargs)\u001b[39m\n\u001b[32m   1248\u001b[39m fig = gcf()\n\u001b[32m   1249\u001b[39m \u001b[38;5;66;03m# savefig default implementation has no return, so mypy is unhappy\u001b[39;00m\n\u001b[32m   1250\u001b[39m \u001b[38;5;66;03m# presumably this is here because subclasses can return?\u001b[39;00m\n\u001b[32m-> \u001b[39m\u001b[32m1251\u001b[39m res = \u001b[43mfig\u001b[49m\u001b[43m.\u001b[49m\u001b[43msavefig\u001b[49m\u001b[43m(\u001b[49m\u001b[43m*\u001b[49m\u001b[43margs\u001b[49m\u001b[43m,\u001b[49m\u001b[43m \u001b[49m\u001b[43m*\u001b[49m\u001b[43m*\u001b[49m\u001b[43mkwargs\u001b[49m\u001b[43m)\u001b[49m  \u001b[38;5;66;03m# type: ignore[func-returns-value]\u001b[39;00m\n\u001b[32m   1252\u001b[39m fig.canvas.draw_idle()  \u001b[38;5;66;03m# Need this if 'transparent=True', to reset colors.\u001b[39;00m\n\u001b[32m   1253\u001b[39m \u001b[38;5;28;01mreturn\u001b[39;00m res\n",
      "\u001b[36mFile \u001b[39m\u001b[32mc:\\Users\\jpons\\Code\\IFCD107_ESPECIALISTA_EN_INTELIGENCIA_ARTIFICIAL\\.venv\\Lib\\site-packages\\matplotlib\\figure.py:3490\u001b[39m, in \u001b[36mFigure.savefig\u001b[39m\u001b[34m(self, fname, transparent, **kwargs)\u001b[39m\n\u001b[32m   3488\u001b[39m     \u001b[38;5;28;01mfor\u001b[39;00m ax \u001b[38;5;129;01min\u001b[39;00m \u001b[38;5;28mself\u001b[39m.axes:\n\u001b[32m   3489\u001b[39m         _recursively_make_axes_transparent(stack, ax)\n\u001b[32m-> \u001b[39m\u001b[32m3490\u001b[39m \u001b[38;5;28;43mself\u001b[39;49m\u001b[43m.\u001b[49m\u001b[43mcanvas\u001b[49m\u001b[43m.\u001b[49m\u001b[43mprint_figure\u001b[49m\u001b[43m(\u001b[49m\u001b[43mfname\u001b[49m\u001b[43m,\u001b[49m\u001b[43m \u001b[49m\u001b[43m*\u001b[49m\u001b[43m*\u001b[49m\u001b[43mkwargs\u001b[49m\u001b[43m)\u001b[49m\n",
      "\u001b[36mFile \u001b[39m\u001b[32mc:\\Users\\jpons\\Code\\IFCD107_ESPECIALISTA_EN_INTELIGENCIA_ARTIFICIAL\\.venv\\Lib\\site-packages\\matplotlib\\backend_bases.py:2184\u001b[39m, in \u001b[36mFigureCanvasBase.print_figure\u001b[39m\u001b[34m(self, filename, dpi, facecolor, edgecolor, orientation, format, bbox_inches, pad_inches, bbox_extra_artists, backend, **kwargs)\u001b[39m\n\u001b[32m   2180\u001b[39m \u001b[38;5;28;01mtry\u001b[39;00m:\n\u001b[32m   2181\u001b[39m     \u001b[38;5;66;03m# _get_renderer may change the figure dpi (as vector formats\u001b[39;00m\n\u001b[32m   2182\u001b[39m     \u001b[38;5;66;03m# force the figure dpi to 72), so we need to set it again here.\u001b[39;00m\n\u001b[32m   2183\u001b[39m     \u001b[38;5;28;01mwith\u001b[39;00m cbook._setattr_cm(\u001b[38;5;28mself\u001b[39m.figure, dpi=dpi):\n\u001b[32m-> \u001b[39m\u001b[32m2184\u001b[39m         result = \u001b[43mprint_method\u001b[49m\u001b[43m(\u001b[49m\n\u001b[32m   2185\u001b[39m \u001b[43m            \u001b[49m\u001b[43mfilename\u001b[49m\u001b[43m,\u001b[49m\n\u001b[32m   2186\u001b[39m \u001b[43m            \u001b[49m\u001b[43mfacecolor\u001b[49m\u001b[43m=\u001b[49m\u001b[43mfacecolor\u001b[49m\u001b[43m,\u001b[49m\n\u001b[32m   2187\u001b[39m \u001b[43m            \u001b[49m\u001b[43medgecolor\u001b[49m\u001b[43m=\u001b[49m\u001b[43medgecolor\u001b[49m\u001b[43m,\u001b[49m\n\u001b[32m   2188\u001b[39m \u001b[43m            \u001b[49m\u001b[43morientation\u001b[49m\u001b[43m=\u001b[49m\u001b[43morientation\u001b[49m\u001b[43m,\u001b[49m\n\u001b[32m   2189\u001b[39m \u001b[43m            \u001b[49m\u001b[43mbbox_inches_restore\u001b[49m\u001b[43m=\u001b[49m\u001b[43m_bbox_inches_restore\u001b[49m\u001b[43m,\u001b[49m\n\u001b[32m   2190\u001b[39m \u001b[43m            \u001b[49m\u001b[43m*\u001b[49m\u001b[43m*\u001b[49m\u001b[43mkwargs\u001b[49m\u001b[43m)\u001b[49m\n\u001b[32m   2191\u001b[39m \u001b[38;5;28;01mfinally\u001b[39;00m:\n\u001b[32m   2192\u001b[39m     \u001b[38;5;28;01mif\u001b[39;00m bbox_inches \u001b[38;5;129;01mand\u001b[39;00m restore_bbox:\n",
      "\u001b[36mFile \u001b[39m\u001b[32mc:\\Users\\jpons\\Code\\IFCD107_ESPECIALISTA_EN_INTELIGENCIA_ARTIFICIAL\\.venv\\Lib\\site-packages\\matplotlib\\backend_bases.py:2040\u001b[39m, in \u001b[36mFigureCanvasBase._switch_canvas_and_return_print_method.<locals>.<lambda>\u001b[39m\u001b[34m(*args, **kwargs)\u001b[39m\n\u001b[32m   2036\u001b[39m     optional_kws = {  \u001b[38;5;66;03m# Passed by print_figure for other renderers.\u001b[39;00m\n\u001b[32m   2037\u001b[39m         \u001b[33m\"\u001b[39m\u001b[33mdpi\u001b[39m\u001b[33m\"\u001b[39m, \u001b[33m\"\u001b[39m\u001b[33mfacecolor\u001b[39m\u001b[33m\"\u001b[39m, \u001b[33m\"\u001b[39m\u001b[33medgecolor\u001b[39m\u001b[33m\"\u001b[39m, \u001b[33m\"\u001b[39m\u001b[33morientation\u001b[39m\u001b[33m\"\u001b[39m,\n\u001b[32m   2038\u001b[39m         \u001b[33m\"\u001b[39m\u001b[33mbbox_inches_restore\u001b[39m\u001b[33m\"\u001b[39m}\n\u001b[32m   2039\u001b[39m     skip = optional_kws - {*inspect.signature(meth).parameters}\n\u001b[32m-> \u001b[39m\u001b[32m2040\u001b[39m     print_method = functools.wraps(meth)(\u001b[38;5;28;01mlambda\u001b[39;00m *args, **kwargs: \u001b[43mmeth\u001b[49m\u001b[43m(\u001b[49m\n\u001b[32m   2041\u001b[39m \u001b[43m        \u001b[49m\u001b[43m*\u001b[49m\u001b[43margs\u001b[49m\u001b[43m,\u001b[49m\u001b[43m \u001b[49m\u001b[43m*\u001b[49m\u001b[43m*\u001b[49m\u001b[43m{\u001b[49m\u001b[43mk\u001b[49m\u001b[43m:\u001b[49m\u001b[43m \u001b[49m\u001b[43mv\u001b[49m\u001b[43m \u001b[49m\u001b[38;5;28;43;01mfor\u001b[39;49;00m\u001b[43m \u001b[49m\u001b[43mk\u001b[49m\u001b[43m,\u001b[49m\u001b[43m \u001b[49m\u001b[43mv\u001b[49m\u001b[43m \u001b[49m\u001b[38;5;129;43;01min\u001b[39;49;00m\u001b[43m \u001b[49m\u001b[43mkwargs\u001b[49m\u001b[43m.\u001b[49m\u001b[43mitems\u001b[49m\u001b[43m(\u001b[49m\u001b[43m)\u001b[49m\u001b[43m \u001b[49m\u001b[38;5;28;43;01mif\u001b[39;49;00m\u001b[43m \u001b[49m\u001b[43mk\u001b[49m\u001b[43m \u001b[49m\u001b[38;5;129;43;01mnot\u001b[39;49;00m\u001b[43m \u001b[49m\u001b[38;5;129;43;01min\u001b[39;49;00m\u001b[43m \u001b[49m\u001b[43mskip\u001b[49m\u001b[43m}\u001b[49m\u001b[43m)\u001b[49m)\n\u001b[32m   2042\u001b[39m \u001b[38;5;28;01melse\u001b[39;00m:  \u001b[38;5;66;03m# Let third-parties do as they see fit.\u001b[39;00m\n\u001b[32m   2043\u001b[39m     print_method = meth\n",
      "\u001b[36mFile \u001b[39m\u001b[32mc:\\Users\\jpons\\Code\\IFCD107_ESPECIALISTA_EN_INTELIGENCIA_ARTIFICIAL\\.venv\\Lib\\site-packages\\matplotlib\\backends\\backend_agg.py:498\u001b[39m, in \u001b[36mFigureCanvasAgg.print_jpg\u001b[39m\u001b[34m(self, filename_or_obj, metadata, pil_kwargs)\u001b[39m\n\u001b[32m    493\u001b[39m \u001b[38;5;28;01mdef\u001b[39;00m\u001b[38;5;250m \u001b[39m\u001b[34mprint_jpg\u001b[39m(\u001b[38;5;28mself\u001b[39m, filename_or_obj, *, metadata=\u001b[38;5;28;01mNone\u001b[39;00m, pil_kwargs=\u001b[38;5;28;01mNone\u001b[39;00m):\n\u001b[32m    494\u001b[39m     \u001b[38;5;66;03m# savefig() has already applied savefig.facecolor; we now set it to\u001b[39;00m\n\u001b[32m    495\u001b[39m     \u001b[38;5;66;03m# white to make imsave() blend semi-transparent figures against an\u001b[39;00m\n\u001b[32m    496\u001b[39m     \u001b[38;5;66;03m# assumed white background.\u001b[39;00m\n\u001b[32m    497\u001b[39m     \u001b[38;5;28;01mwith\u001b[39;00m mpl.rc_context({\u001b[33m\"\u001b[39m\u001b[33msavefig.facecolor\u001b[39m\u001b[33m\"\u001b[39m: \u001b[33m\"\u001b[39m\u001b[33mwhite\u001b[39m\u001b[33m\"\u001b[39m}):\n\u001b[32m--> \u001b[39m\u001b[32m498\u001b[39m         \u001b[38;5;28;43mself\u001b[39;49m\u001b[43m.\u001b[49m\u001b[43m_print_pil\u001b[49m\u001b[43m(\u001b[49m\u001b[43mfilename_or_obj\u001b[49m\u001b[43m,\u001b[49m\u001b[43m \u001b[49m\u001b[33;43m\"\u001b[39;49m\u001b[33;43mjpeg\u001b[39;49m\u001b[33;43m\"\u001b[39;49m\u001b[43m,\u001b[49m\u001b[43m \u001b[49m\u001b[43mpil_kwargs\u001b[49m\u001b[43m,\u001b[49m\u001b[43m \u001b[49m\u001b[43mmetadata\u001b[49m\u001b[43m)\u001b[49m\n",
      "\u001b[36mFile \u001b[39m\u001b[32mc:\\Users\\jpons\\Code\\IFCD107_ESPECIALISTA_EN_INTELIGENCIA_ARTIFICIAL\\.venv\\Lib\\site-packages\\matplotlib\\backends\\backend_agg.py:430\u001b[39m, in \u001b[36mFigureCanvasAgg._print_pil\u001b[39m\u001b[34m(self, filename_or_obj, fmt, pil_kwargs, metadata)\u001b[39m\n\u001b[32m    425\u001b[39m \u001b[38;5;250m\u001b[39m\u001b[33;03m\"\"\"\u001b[39;00m\n\u001b[32m    426\u001b[39m \u001b[33;03mDraw the canvas, then save it using `.image.imsave` (to which\u001b[39;00m\n\u001b[32m    427\u001b[39m \u001b[33;03m*pil_kwargs* and *metadata* are forwarded).\u001b[39;00m\n\u001b[32m    428\u001b[39m \u001b[33;03m\"\"\"\u001b[39;00m\n\u001b[32m    429\u001b[39m FigureCanvasAgg.draw(\u001b[38;5;28mself\u001b[39m)\n\u001b[32m--> \u001b[39m\u001b[32m430\u001b[39m \u001b[43mmpl\u001b[49m\u001b[43m.\u001b[49m\u001b[43mimage\u001b[49m\u001b[43m.\u001b[49m\u001b[43mimsave\u001b[49m\u001b[43m(\u001b[49m\n\u001b[32m    431\u001b[39m \u001b[43m    \u001b[49m\u001b[43mfilename_or_obj\u001b[49m\u001b[43m,\u001b[49m\u001b[43m \u001b[49m\u001b[38;5;28;43mself\u001b[39;49m\u001b[43m.\u001b[49m\u001b[43mbuffer_rgba\u001b[49m\u001b[43m(\u001b[49m\u001b[43m)\u001b[49m\u001b[43m,\u001b[49m\u001b[43m \u001b[49m\u001b[38;5;28;43mformat\u001b[39;49m\u001b[43m=\u001b[49m\u001b[43mfmt\u001b[49m\u001b[43m,\u001b[49m\u001b[43m \u001b[49m\u001b[43morigin\u001b[49m\u001b[43m=\u001b[49m\u001b[33;43m\"\u001b[39;49m\u001b[33;43mupper\u001b[39;49m\u001b[33;43m\"\u001b[39;49m\u001b[43m,\u001b[49m\n\u001b[32m    432\u001b[39m \u001b[43m    \u001b[49m\u001b[43mdpi\u001b[49m\u001b[43m=\u001b[49m\u001b[38;5;28;43mself\u001b[39;49m\u001b[43m.\u001b[49m\u001b[43mfigure\u001b[49m\u001b[43m.\u001b[49m\u001b[43mdpi\u001b[49m\u001b[43m,\u001b[49m\u001b[43m \u001b[49m\u001b[43mmetadata\u001b[49m\u001b[43m=\u001b[49m\u001b[43mmetadata\u001b[49m\u001b[43m,\u001b[49m\u001b[43m \u001b[49m\u001b[43mpil_kwargs\u001b[49m\u001b[43m=\u001b[49m\u001b[43mpil_kwargs\u001b[49m\u001b[43m)\u001b[49m\n",
      "\u001b[36mFile \u001b[39m\u001b[32mc:\\Users\\jpons\\Code\\IFCD107_ESPECIALISTA_EN_INTELIGENCIA_ARTIFICIAL\\.venv\\Lib\\site-packages\\matplotlib\\image.py:1657\u001b[39m, in \u001b[36mimsave\u001b[39m\u001b[34m(fname, arr, vmin, vmax, cmap, format, origin, dpi, metadata, pil_kwargs)\u001b[39m\n\u001b[32m   1655\u001b[39m pil_kwargs.setdefault(\u001b[33m\"\u001b[39m\u001b[33mformat\u001b[39m\u001b[33m\"\u001b[39m, \u001b[38;5;28mformat\u001b[39m)\n\u001b[32m   1656\u001b[39m pil_kwargs.setdefault(\u001b[33m\"\u001b[39m\u001b[33mdpi\u001b[39m\u001b[33m\"\u001b[39m, (dpi, dpi))\n\u001b[32m-> \u001b[39m\u001b[32m1657\u001b[39m \u001b[43mimage\u001b[49m\u001b[43m.\u001b[49m\u001b[43msave\u001b[49m\u001b[43m(\u001b[49m\u001b[43mfname\u001b[49m\u001b[43m,\u001b[49m\u001b[43m \u001b[49m\u001b[43m*\u001b[49m\u001b[43m*\u001b[49m\u001b[43mpil_kwargs\u001b[49m\u001b[43m)\u001b[49m\n",
      "\u001b[36mFile \u001b[39m\u001b[32mc:\\Users\\jpons\\Code\\IFCD107_ESPECIALISTA_EN_INTELIGENCIA_ARTIFICIAL\\.venv\\Lib\\site-packages\\PIL\\Image.py:2576\u001b[39m, in \u001b[36mImage.save\u001b[39m\u001b[34m(self, fp, format, **params)\u001b[39m\n\u001b[32m   2574\u001b[39m         fp = builtins.open(filename, \u001b[33m\"\u001b[39m\u001b[33mr+b\u001b[39m\u001b[33m\"\u001b[39m)\n\u001b[32m   2575\u001b[39m     \u001b[38;5;28;01melse\u001b[39;00m:\n\u001b[32m-> \u001b[39m\u001b[32m2576\u001b[39m         fp = \u001b[43mbuiltins\u001b[49m\u001b[43m.\u001b[49m\u001b[43mopen\u001b[49m\u001b[43m(\u001b[49m\u001b[43mfilename\u001b[49m\u001b[43m,\u001b[49m\u001b[43m \u001b[49m\u001b[33;43m\"\u001b[39;49m\u001b[33;43mw+b\u001b[39;49m\u001b[33;43m\"\u001b[39;49m\u001b[43m)\u001b[49m\n\u001b[32m   2577\u001b[39m \u001b[38;5;28;01melse\u001b[39;00m:\n\u001b[32m   2578\u001b[39m     fp = cast(IO[\u001b[38;5;28mbytes\u001b[39m], fp)\n",
      "\u001b[31mFileNotFoundError\u001b[39m: [Errno 2] No such file or directory: 'mi_app/static/edad_promedio_por_estadio.jpg'"
     ]
    },
    {
     "data": {
      "text/plain": [
       "<Figure size 640x480 with 0 Axes>"
      ]
     },
     "metadata": {},
     "output_type": "display_data"
    }
   ],
   "source": [
    "import pandas as pd\n",
    "import matplotlib.pyplot as plt\n",
    "import seaborn as sns\n",
    "\n",
    "# Cargar los datos procesados\n",
    "data = pd.read_csv('datos_aleatorios_resultado.csv', sep=',')\n",
    "\n",
    "# Asegurar tipos adecuados\n",
    "data['Genero'] = pd.to_numeric(data['Genero'], errors='coerce')\n",
    "data['Edad'] = pd.to_numeric(data['Edad'], errors='coerce')\n",
    "data['Estadio ERC'] = pd.to_numeric(data['Estadio ERC'], errors='coerce')\n",
    "\n",
    "# Agrupación por Estadio ERC con estadísticas de Edad y proporción de Género\n",
    "resumen = data.groupby('Estadio ERC').agg(\n",
    "    Edad_Promedio=('Edad', 'mean'),\n",
    "    Proporcion_Masculino=('Genero', lambda x: (x == 1).mean()),\n",
    "    Total_Pacientes=('Genero', 'count')\n",
    ").reset_index()\n",
    "\n",
    "# Mostrar resumen\n",
    "print(resumen)\n",
    "\n",
    "import plotly.express as px\n",
    "\n",
    "# Suponiendo que 'resumen' tiene columnas: 'Estadio ERC' y 'Edad_Promedio'\n",
    "fig = px.bar(resumen,\n",
    "             x='Estadio ERC',\n",
    "             y='Edad_Promedio',\n",
    "             color='Edad_Promedio',\n",
    "             text='Edad_Promedio',\n",
    "             color_continuous_scale='Bluered_r',\n",
    "             title='Edad Promedio por Estadio ERC')\n",
    "\n",
    "fig.update_traces(texttemplate='%{text:.1f} años', textposition='outside')\n",
    "fig.update_layout(yaxis_title='Edad Promedio (años)',\n",
    "                  xaxis_title='Estadio ERC',\n",
    "                  coloraxis_showscale=False,\n",
    "                  uniformtext_minsize=8,\n",
    "                  uniformtext_mode='hide')\n",
    "\n",
    "plt.savefig(\"mi_app/static/edad_promedio_por_estadio.jpg\")\n",
    "\n",
    "# Crear df_melted para proporciones de género por estadio\n",
    "df_melted = pd.DataFrame({\n",
    "    'Estadio ERC': resumen['Estadio ERC'].tolist() * 2,\n",
    "    'Proporción': pd.concat([\n",
    "        resumen['Proporcion_Masculino'],\n",
    "        1 - resumen['Proporcion_Masculino']\n",
    "    ], ignore_index=True),\n",
    "    'Género': ['Masculino'] * len(resumen) + ['Femenino'] * len(resumen)\n",
    "})\n",
    "\n",
    "import plotly.express as px\n",
    "\n",
    "# Añadir columna Proporcion_Femenino\n",
    "resumen['Proporcion_Femenino'] = 1 - resumen['Proporcion_Masculino']\n",
    "\n",
    "df_melted = resumen.melt(id_vars='Estadio ERC', \n",
    "                         value_vars=['Proporcion_Masculino', 'Proporcion_Femenino'],\n",
    "                         var_name='Género', \n",
    "                         value_name='Proporción')\n",
    "\n",
    "df_melted['Género'] = df_melted['Género'].map({\n",
    "    'Proporcion_Masculino': 'Masculino',\n",
    "    'Proporcion_Femenino': 'Femenino'\n",
    "})\n",
    "\n",
    "# Crear gráfico interactivo\n",
    "fig = px.bar(df_melted, \n",
    "             x='Estadio ERC', \n",
    "             y='Proporción', \n",
    "             color='Género', \n",
    "             barmode='group',\n",
    "             title='Comparativa Interactiva: Proporción Masculina vs Femenina por Estadio ERC',\n",
    "             text_auto=True,\n",
    "             color_discrete_sequence=['#3366CC', '#FF6666'])\n",
    "\n",
    "fig.update_layout(yaxis=dict(range=[0, 1]))\n",
    "plt.savefig(\"mi_app/static/proporcion_masculino_vs_femenino.jpg\")"
   ]
  }
 ],
 "metadata": {
  "kernelspec": {
   "display_name": ".venv",
   "language": "python",
   "name": "python3"
  },
  "language_info": {
   "codemirror_mode": {
    "name": "ipython",
    "version": 3
   },
   "file_extension": ".py",
   "mimetype": "text/x-python",
   "name": "python",
   "nbconvert_exporter": "python",
   "pygments_lexer": "ipython3",
   "version": "3.12.10"
  }
 },
 "nbformat": 4,
 "nbformat_minor": 5
}
